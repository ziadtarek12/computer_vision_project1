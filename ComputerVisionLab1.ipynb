{
  "nbformat": 4,
  "nbformat_minor": 0,
  "metadata": {
    "colab": {
      "provenance": []
    },
    "kernelspec": {
      "name": "python3",
      "display_name": "Python 3"
    },
    "language_info": {
      "name": "python"
    }
  },
  "cells": [
    {
      "cell_type": "code",
      "source": [
        "\n",
        "!pip install numpy opencv-python\n"
      ],
      "metadata": {
        "colab": {
          "base_uri": "https://localhost:8080/"
        },
        "id": "rlpYXgkNKn-6",
        "outputId": "9dd0e37d-c47b-4856-b172-ee0b0148d929"
      },
      "execution_count": null,
      "outputs": [
        {
          "output_type": "stream",
          "name": "stdout",
          "text": [
            "Requirement already satisfied: numpy in /usr/local/lib/python3.11/dist-packages (1.26.4)\n",
            "Requirement already satisfied: opencv-python in /usr/local/lib/python3.11/dist-packages (4.11.0.86)\n"
          ]
        }
      ]
    },
    {
      "cell_type": "code",
      "execution_count": null,
      "metadata": {
        "id": "8g8GEJ7NKDFX"
      },
      "outputs": [],
      "source": [
        "import numpy as np\n",
        "import cv2\n",
        "\n",
        "class SeamCarver:\n",
        "    def __init__(self, image):\n",
        "        self.original = image.copy()\n",
        "        self.current = image.copy()\n",
        "        self.height, self.width = image.shape[:2]\n",
        "\n",
        "        # Initialize coordinate mapping and energy buffers\n",
        "        self.x_mappings = np.tile(np.arange(self.width), (self.height, 1))\n",
        "        self.removed_seams = []\n",
        "        self._init_buffers()  # Initialize all buffers based on current image\n",
        "\n",
        "    def _init_buffers(self):\n",
        "        \"\"\"Reinitialize all buffers to match current image dimensions\"\"\"\n",
        "        # Convert to grayscale\n",
        "        if self.current.ndim == 3:\n",
        "            self.gray = cv2.cvtColor(self.current, cv2.COLOR_BGR2GRAY).astype(np.float32)\n",
        "        else:\n",
        "            self.gray = self.current.astype(np.float32)\n",
        "\n",
        "        # Create fresh energy buffers with correct dimensions\n",
        "        self.dx = np.empty_like(self.gray)\n",
        "        self.dy = np.empty_like(self.gray)\n",
        "        self.energy = np.empty_like(self.gray)\n",
        "\n",
        "    def _compute_energy(self):\n",
        "        \"\"\"Compute energy with safe edge handling\"\"\"\n",
        "        h, w = self.height, self.width\n",
        "\n",
        "        # Horizontal gradient (central differences)\n",
        "        if w > 2:  # Only compute central differences if width allows\n",
        "            self.dx[:, 1:-1] = self.gray[:, 2:] - self.gray[:, :-2]\n",
        "        if w >= 2:  # Handle edges safely\n",
        "            self.dx[:, 0] = self.gray[:, 1] - self.gray[:, 0]\n",
        "            self.dx[:, -1] = self.gray[:, -1] - self.gray[:, -2]\n",
        "\n",
        "        # Vertical gradient (central differences)\n",
        "        if h > 2:\n",
        "            self.dy[1:-1, :] = self.gray[2:, :] - self.gray[:-2, :]\n",
        "        if h >= 2:\n",
        "            self.dy[0, :] = self.gray[1, :] - self.gray[0, :]\n",
        "            self.dy[-1, :] = self.gray[-1, :] - self.gray[-2, :]\n",
        "\n",
        "        np.abs(self.dx, out=self.dx)\n",
        "        np.abs(self.dy, out=self.dy)\n",
        "        np.add(self.dx, self.dy, out=self.energy)\n",
        "        return self.energy\n",
        "\n",
        "    def _compute_cumulative_energy(self):\n",
        "        cum_energy = self.energy.copy()\n",
        "        for i in range(1, self.height):\n",
        "            left = np.roll(cum_energy[i-1], 1)\n",
        "            left[0] = np.inf\n",
        "            right = np.roll(cum_energy[i-1], -1)\n",
        "            right[-1] = np.inf\n",
        "            cum_energy[i] += np.minimum(np.minimum(left, cum_energy[i-1]), right)\n",
        "        return cum_energy\n",
        "\n",
        "    def _find_vertical_seam(self, cum_energy):\n",
        "        seam = np.zeros(self.height, dtype=int)\n",
        "        seam[-1] = np.argmin(cum_energy[-1])\n",
        "        for i in range(self.height-2, -1, -1):\n",
        "            j_prev = seam[i+1]\n",
        "            j_min = max(j_prev-1, 0)\n",
        "            j_max = min(j_prev+1, self.width-1)\n",
        "            seam[i] = j_min + np.argmin(cum_energy[i, j_min:j_max+1])\n",
        "        return seam\n",
        "\n",
        "    def _remove_vertical_seam(self, seam):\n",
        "        # Track original coordinates\n",
        "        original_seam = [(i, int(self.x_mappings[i, seam[i]])) for i in range(self.height)]\n",
        "        self.removed_seams.append(original_seam)\n",
        "\n",
        "        # Update arrays using boolean mask\n",
        "        mask = np.ones((self.height, self.width), dtype=bool)\n",
        "        mask[np.arange(self.height), seam] = False\n",
        "\n",
        "        self.current = self.current[mask].reshape((self.height, self.width-1, 3))\n",
        "        self.x_mappings = self.x_mappings[mask].reshape((self.height, self.width-1))\n",
        "        self.width -= 1\n",
        "\n",
        "        # Reinitialize all buffers with new dimensions\n",
        "        self._init_buffers()\n",
        "\n",
        "    def carve_vertical(self, target_width):\n",
        "        target_width = max(target_width, 1)\n",
        "        while self.width > target_width:\n",
        "            self._compute_energy()\n",
        "            cum_energy = self._compute_cumulative_energy()\n",
        "            seam = self._find_vertical_seam(cum_energy)\n",
        "            self._remove_vertical_seam(seam)\n",
        "\n",
        "    def visualize_seams(self):\n",
        "        viz = self.original.copy()\n",
        "        for seam in self.removed_seams:\n",
        "            for row, col in seam:\n",
        "                if 0 <= col < self.original.shape[1]:\n",
        "                    viz[row, col] = [0, 0, 255]  # BGR color for red\n",
        "        return viz\n",
        "\n",
        "# Usage\n",
        "if __name__ == \"__main__\":\n",
        "    img = cv2.imread(\"images.jpeg\")\n",
        "    carver = SeamCarver(img)\n",
        "    carver.carve_vertical(img.shape[1] // 1.5)\n",
        "    cv2.imwrite(\"resized.jpg\", carver.current)\n",
        "    cv2.imwrite(\"seams.jpg\", carver.visualize_seams())"
      ]
    }
  ]
}